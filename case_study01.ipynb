{
  "nbformat": 4,
  "nbformat_minor": 0,
  "metadata": {
    "colab": {
      "provenance": [],
      "authorship_tag": "ABX9TyOA9TFuroVpQjGA9XnmxDfa",
      "include_colab_link": true
    },
    "kernelspec": {
      "name": "python3",
      "display_name": "Python 3"
    },
    "language_info": {
      "name": "python"
    }
  },
  "cells": [
    {
      "cell_type": "markdown",
      "metadata": {
        "id": "view-in-github",
        "colab_type": "text"
      },
      "source": [
        "<a href=\"https://colab.research.google.com/github/abakm/AL-ML_Assignment-1/blob/master/case_study01.ipynb\" target=\"_parent\"><img src=\"https://colab.research.google.com/assets/colab-badge.svg\" alt=\"Open In Colab\"/></a>"
      ]
    },
    {
      "cell_type": "markdown",
      "source": [
        "### 1. Load the dataset in Python environment"
      ],
      "metadata": {
        "id": "MLowBEulcaPQ"
      }
    },
    {
      "cell_type": "code",
      "source": [
        "import pandas as pd # import pandas module\n",
        "\n",
        "df = pd.read_csv('./train_loan.csv') # read the csv file\n",
        "\n",
        "print(df) # print dataframe\n"
      ],
      "metadata": {
        "colab": {
          "base_uri": "https://localhost:8080/"
        },
        "collapsed": true,
        "id": "wY5G0ssDcgAX",
        "outputId": "65dba62e-1e17-4c41-a7aa-a6211548c1ed"
      },
      "execution_count": 3,
      "outputs": [
        {
          "output_type": "stream",
          "name": "stdout",
          "text": [
            "      Loan_ID  Gender Married Dependents     Education Self_Employed  \\\n",
            "0    LP001002    Male      No          0      Graduate            No   \n",
            "1    LP001003    Male     Yes          1      Graduate            No   \n",
            "2    LP001005    Male     Yes          0      Graduate           Yes   \n",
            "3    LP001006    Male     Yes          0  Not Graduate            No   \n",
            "4    LP001008    Male      No          0      Graduate            No   \n",
            "..        ...     ...     ...        ...           ...           ...   \n",
            "609  LP002978  Female      No          0      Graduate            No   \n",
            "610  LP002979    Male     Yes         3+      Graduate            No   \n",
            "611  LP002983    Male     Yes          1      Graduate            No   \n",
            "612  LP002984    Male     Yes          2      Graduate            No   \n",
            "613  LP002990  Female      No          0      Graduate           Yes   \n",
            "\n",
            "     ApplicantIncome  CoapplicantIncome  LoanAmount  Loan_Amount_Term  \\\n",
            "0               5849                0.0         NaN             360.0   \n",
            "1               4583             1508.0       128.0             360.0   \n",
            "2               3000                0.0        66.0             360.0   \n",
            "3               2583             2358.0       120.0             360.0   \n",
            "4               6000                0.0       141.0             360.0   \n",
            "..               ...                ...         ...               ...   \n",
            "609             2900                0.0        71.0             360.0   \n",
            "610             4106                0.0        40.0             180.0   \n",
            "611             8072              240.0       253.0             360.0   \n",
            "612             7583                0.0       187.0             360.0   \n",
            "613             4583                0.0       133.0             360.0   \n",
            "\n",
            "     Credit_History Property_Area Loan_Status  \n",
            "0               1.0         Urban           Y  \n",
            "1               1.0         Rural           N  \n",
            "2               1.0         Urban           Y  \n",
            "3               1.0         Urban           Y  \n",
            "4               1.0         Urban           Y  \n",
            "..              ...           ...         ...  \n",
            "609             1.0         Rural           Y  \n",
            "610             1.0         Rural           Y  \n",
            "611             1.0         Urban           Y  \n",
            "612             1.0         Urban           Y  \n",
            "613             0.0     Semiurban           N  \n",
            "\n",
            "[614 rows x 13 columns]\n"
          ]
        }
      ]
    },
    {
      "cell_type": "markdown",
      "source": [
        "### 2. Perform different preprocessing steps"
      ],
      "metadata": {
        "id": "50dulytNc2yR"
      }
    },
    {
      "cell_type": "markdown",
      "source": [
        "### a. Missing value handling\n"
      ],
      "metadata": {
        "id": "SVRBEPtYc7S1"
      }
    },
    {
      "cell_type": "code",
      "source": [
        "df.isnull().sum() # check for missing values\n",
        "# Missing value handling is done by following values"
      ],
      "metadata": {
        "colab": {
          "base_uri": "https://localhost:8080/",
          "height": 491
        },
        "collapsed": true,
        "id": "Ntuo6GP5c-Zo",
        "outputId": "9facece7-d884-469f-85bc-03b5d12ce42c"
      },
      "execution_count": 4,
      "outputs": [
        {
          "output_type": "execute_result",
          "data": {
            "text/plain": [
              "Loan_ID               0\n",
              "Gender               13\n",
              "Married               3\n",
              "Dependents           15\n",
              "Education             0\n",
              "Self_Employed        32\n",
              "ApplicantIncome       0\n",
              "CoapplicantIncome     0\n",
              "LoanAmount           22\n",
              "Loan_Amount_Term     14\n",
              "Credit_History       50\n",
              "Property_Area         0\n",
              "Loan_Status           0\n",
              "dtype: int64"
            ],
            "text/html": [
              "<div>\n",
              "<style scoped>\n",
              "    .dataframe tbody tr th:only-of-type {\n",
              "        vertical-align: middle;\n",
              "    }\n",
              "\n",
              "    .dataframe tbody tr th {\n",
              "        vertical-align: top;\n",
              "    }\n",
              "\n",
              "    .dataframe thead th {\n",
              "        text-align: right;\n",
              "    }\n",
              "</style>\n",
              "<table border=\"1\" class=\"dataframe\">\n",
              "  <thead>\n",
              "    <tr style=\"text-align: right;\">\n",
              "      <th></th>\n",
              "      <th>0</th>\n",
              "    </tr>\n",
              "  </thead>\n",
              "  <tbody>\n",
              "    <tr>\n",
              "      <th>Loan_ID</th>\n",
              "      <td>0</td>\n",
              "    </tr>\n",
              "    <tr>\n",
              "      <th>Gender</th>\n",
              "      <td>13</td>\n",
              "    </tr>\n",
              "    <tr>\n",
              "      <th>Married</th>\n",
              "      <td>3</td>\n",
              "    </tr>\n",
              "    <tr>\n",
              "      <th>Dependents</th>\n",
              "      <td>15</td>\n",
              "    </tr>\n",
              "    <tr>\n",
              "      <th>Education</th>\n",
              "      <td>0</td>\n",
              "    </tr>\n",
              "    <tr>\n",
              "      <th>Self_Employed</th>\n",
              "      <td>32</td>\n",
              "    </tr>\n",
              "    <tr>\n",
              "      <th>ApplicantIncome</th>\n",
              "      <td>0</td>\n",
              "    </tr>\n",
              "    <tr>\n",
              "      <th>CoapplicantIncome</th>\n",
              "      <td>0</td>\n",
              "    </tr>\n",
              "    <tr>\n",
              "      <th>LoanAmount</th>\n",
              "      <td>22</td>\n",
              "    </tr>\n",
              "    <tr>\n",
              "      <th>Loan_Amount_Term</th>\n",
              "      <td>14</td>\n",
              "    </tr>\n",
              "    <tr>\n",
              "      <th>Credit_History</th>\n",
              "      <td>50</td>\n",
              "    </tr>\n",
              "    <tr>\n",
              "      <th>Property_Area</th>\n",
              "      <td>0</td>\n",
              "    </tr>\n",
              "    <tr>\n",
              "      <th>Loan_Status</th>\n",
              "      <td>0</td>\n",
              "    </tr>\n",
              "  </tbody>\n",
              "</table>\n",
              "</div><br><label><b>dtype:</b> int64</label>"
            ]
          },
          "metadata": {},
          "execution_count": 4
        }
      ]
    },
    {
      "cell_type": "markdown",
      "source": [
        "### a.1 Fill missing values with a specific value (e.g., 'Unknown' for text, 0 for numbers)"
      ],
      "metadata": {
        "id": "WLAoj7c1fAbm"
      }
    },
    {
      "cell_type": "code",
      "source": [
        "fill_na_df = df.fillna({\n",
        "    \"Dependents\":0,\n",
        "    \"LoanAmount\":0,\n",
        "    \"Loan_Amount_Term\":0,\n",
        "    \"Gender\": \"Unknown\",\n",
        "    \"Married\": \"Unknown\",\n",
        "    \"Self_Employed\":  \"Unknown\",\n",
        "    \"Credit_History\":0\n",
        "})\n",
        "# fill missing values with 'Unknown for text and 0 for numeric'\n",
        "print(fill_na_df)"
      ],
      "metadata": {
        "colab": {
          "base_uri": "https://localhost:8080/"
        },
        "collapsed": true,
        "id": "IVKvUjW5fGWK",
        "outputId": "9811645d-0f10-4d3d-e3b7-710ddd2be331"
      },
      "execution_count": 5,
      "outputs": [
        {
          "output_type": "stream",
          "name": "stdout",
          "text": [
            "      Loan_ID  Gender Married Dependents     Education Self_Employed  \\\n",
            "0    LP001002    Male      No          0      Graduate            No   \n",
            "1    LP001003    Male     Yes          1      Graduate            No   \n",
            "2    LP001005    Male     Yes          0      Graduate           Yes   \n",
            "3    LP001006    Male     Yes          0  Not Graduate            No   \n",
            "4    LP001008    Male      No          0      Graduate            No   \n",
            "..        ...     ...     ...        ...           ...           ...   \n",
            "609  LP002978  Female      No          0      Graduate            No   \n",
            "610  LP002979    Male     Yes         3+      Graduate            No   \n",
            "611  LP002983    Male     Yes          1      Graduate            No   \n",
            "612  LP002984    Male     Yes          2      Graduate            No   \n",
            "613  LP002990  Female      No          0      Graduate           Yes   \n",
            "\n",
            "     ApplicantIncome  CoapplicantIncome  LoanAmount  Loan_Amount_Term  \\\n",
            "0               5849                0.0         0.0             360.0   \n",
            "1               4583             1508.0       128.0             360.0   \n",
            "2               3000                0.0        66.0             360.0   \n",
            "3               2583             2358.0       120.0             360.0   \n",
            "4               6000                0.0       141.0             360.0   \n",
            "..               ...                ...         ...               ...   \n",
            "609             2900                0.0        71.0             360.0   \n",
            "610             4106                0.0        40.0             180.0   \n",
            "611             8072              240.0       253.0             360.0   \n",
            "612             7583                0.0       187.0             360.0   \n",
            "613             4583                0.0       133.0             360.0   \n",
            "\n",
            "     Credit_History Property_Area Loan_Status  \n",
            "0               1.0         Urban           Y  \n",
            "1               1.0         Rural           N  \n",
            "2               1.0         Urban           Y  \n",
            "3               1.0         Urban           Y  \n",
            "4               1.0         Urban           Y  \n",
            "..              ...           ...         ...  \n",
            "609             1.0         Rural           Y  \n",
            "610             1.0         Rural           Y  \n",
            "611             1.0         Urban           Y  \n",
            "612             1.0         Urban           Y  \n",
            "613             0.0     Semiurban           N  \n",
            "\n",
            "[614 rows x 13 columns]\n"
          ]
        }
      ]
    },
    {
      "cell_type": "markdown",
      "source": [],
      "metadata": {
        "id": "gClA_Pz3iOhI"
      }
    },
    {
      "cell_type": "markdown",
      "source": [
        "### a.2 Drop rows with any missing value"
      ],
      "metadata": {
        "id": "KAeX4y0NeKf1"
      }
    },
    {
      "cell_type": "code",
      "source": [
        "df=df.dropna() # drop rows with any missing value\n",
        "print(df)"
      ],
      "metadata": {
        "colab": {
          "base_uri": "https://localhost:8080/"
        },
        "collapsed": true,
        "id": "FXHh0xwoePm9",
        "outputId": "6664c9eb-763c-48aa-b93a-1b48c9c85fbb"
      },
      "execution_count": 7,
      "outputs": [
        {
          "output_type": "stream",
          "name": "stdout",
          "text": [
            "      Loan_ID  Gender Married Dependents     Education Self_Employed  \\\n",
            "1    LP001003    Male     Yes          1      Graduate            No   \n",
            "2    LP001005    Male     Yes          0      Graduate           Yes   \n",
            "3    LP001006    Male     Yes          0  Not Graduate            No   \n",
            "4    LP001008    Male      No          0      Graduate            No   \n",
            "5    LP001011    Male     Yes          2      Graduate           Yes   \n",
            "..        ...     ...     ...        ...           ...           ...   \n",
            "609  LP002978  Female      No          0      Graduate            No   \n",
            "610  LP002979    Male     Yes         3+      Graduate            No   \n",
            "611  LP002983    Male     Yes          1      Graduate            No   \n",
            "612  LP002984    Male     Yes          2      Graduate            No   \n",
            "613  LP002990  Female      No          0      Graduate           Yes   \n",
            "\n",
            "     ApplicantIncome  CoapplicantIncome  LoanAmount  Loan_Amount_Term  \\\n",
            "1               4583             1508.0       128.0             360.0   \n",
            "2               3000                0.0        66.0             360.0   \n",
            "3               2583             2358.0       120.0             360.0   \n",
            "4               6000                0.0       141.0             360.0   \n",
            "5               5417             4196.0       267.0             360.0   \n",
            "..               ...                ...         ...               ...   \n",
            "609             2900                0.0        71.0             360.0   \n",
            "610             4106                0.0        40.0             180.0   \n",
            "611             8072              240.0       253.0             360.0   \n",
            "612             7583                0.0       187.0             360.0   \n",
            "613             4583                0.0       133.0             360.0   \n",
            "\n",
            "     Credit_History Property_Area Loan_Status  \n",
            "1               1.0         Rural           N  \n",
            "2               1.0         Urban           Y  \n",
            "3               1.0         Urban           Y  \n",
            "4               1.0         Urban           Y  \n",
            "5               1.0         Urban           Y  \n",
            "..              ...           ...         ...  \n",
            "609             1.0         Rural           Y  \n",
            "610             1.0         Rural           Y  \n",
            "611             1.0         Urban           Y  \n",
            "612             1.0         Urban           Y  \n",
            "613             0.0     Semiurban           N  \n",
            "\n",
            "[480 rows x 13 columns]\n"
          ]
        }
      ]
    },
    {
      "cell_type": "markdown",
      "source": [
        "### b. Outlier detection"
      ],
      "metadata": {
        "id": "J0Zzo5IPiuYS"
      }
    },
    {
      "cell_type": "markdown",
      "source": [
        "### b.1.Sorting method"
      ],
      "metadata": {
        "id": "vLT2Pa09uaAa"
      }
    },
    {
      "cell_type": "code",
      "source": [
        "df['ApplicantIncome'].sort_values() # sort the ApplicantIncom\n",
        "\n",
        "# here 150 and 81000 are the outlier"
      ],
      "metadata": {
        "id": "ttdC6ruPi0a0",
        "colab": {
          "base_uri": "https://localhost:8080/",
          "height": 458
        },
        "collapsed": true,
        "outputId": "8256e3a1-f785-4ec2-9970-96c08b574350"
      },
      "execution_count": 12,
      "outputs": [
        {
          "output_type": "execute_result",
          "data": {
            "text/plain": [
              "216      150\n",
              "500      645\n",
              "77      1000\n",
              "418     1025\n",
              "14      1299\n",
              "       ...  \n",
              "183    33846\n",
              "443    37719\n",
              "185    39147\n",
              "155    39999\n",
              "409    81000\n",
              "Name: ApplicantIncome, Length: 480, dtype: int64"
            ],
            "text/html": [
              "<div>\n",
              "<style scoped>\n",
              "    .dataframe tbody tr th:only-of-type {\n",
              "        vertical-align: middle;\n",
              "    }\n",
              "\n",
              "    .dataframe tbody tr th {\n",
              "        vertical-align: top;\n",
              "    }\n",
              "\n",
              "    .dataframe thead th {\n",
              "        text-align: right;\n",
              "    }\n",
              "</style>\n",
              "<table border=\"1\" class=\"dataframe\">\n",
              "  <thead>\n",
              "    <tr style=\"text-align: right;\">\n",
              "      <th></th>\n",
              "      <th>ApplicantIncome</th>\n",
              "    </tr>\n",
              "  </thead>\n",
              "  <tbody>\n",
              "    <tr>\n",
              "      <th>216</th>\n",
              "      <td>150</td>\n",
              "    </tr>\n",
              "    <tr>\n",
              "      <th>500</th>\n",
              "      <td>645</td>\n",
              "    </tr>\n",
              "    <tr>\n",
              "      <th>77</th>\n",
              "      <td>1000</td>\n",
              "    </tr>\n",
              "    <tr>\n",
              "      <th>418</th>\n",
              "      <td>1025</td>\n",
              "    </tr>\n",
              "    <tr>\n",
              "      <th>14</th>\n",
              "      <td>1299</td>\n",
              "    </tr>\n",
              "    <tr>\n",
              "      <th>...</th>\n",
              "      <td>...</td>\n",
              "    </tr>\n",
              "    <tr>\n",
              "      <th>183</th>\n",
              "      <td>33846</td>\n",
              "    </tr>\n",
              "    <tr>\n",
              "      <th>443</th>\n",
              "      <td>37719</td>\n",
              "    </tr>\n",
              "    <tr>\n",
              "      <th>185</th>\n",
              "      <td>39147</td>\n",
              "    </tr>\n",
              "    <tr>\n",
              "      <th>155</th>\n",
              "      <td>39999</td>\n",
              "    </tr>\n",
              "    <tr>\n",
              "      <th>409</th>\n",
              "      <td>81000</td>\n",
              "    </tr>\n",
              "  </tbody>\n",
              "</table>\n",
              "<p>480 rows × 1 columns</p>\n",
              "</div><br><label><b>dtype:</b> int64</label>"
            ]
          },
          "metadata": {},
          "execution_count": 12
        }
      ]
    },
    {
      "cell_type": "markdown",
      "source": [
        "### b.2 Data Visualization Method"
      ],
      "metadata": {
        "id": "8kPNlXsiwp_u"
      }
    },
    {
      "cell_type": "code",
      "source": [
        "from matplotlib import pyplot as plt\n",
        "import seaborn as sns\n",
        "plt.figure(figsize=(8,4))\n",
        "sns.boxplot(x=df['ApplicantIncome'])\n",
        "plt.title(\"Boxplot of ApplicantIncome\")\n",
        "plt.show()"
      ],
      "metadata": {
        "colab": {
          "base_uri": "https://localhost:8080/",
          "height": 410
        },
        "collapsed": true,
        "id": "KFUhb_IewxXP",
        "outputId": "e516d3b6-7ef7-4831-8719-0b50b2b5d208"
      },
      "execution_count": 10,
      "outputs": [
        {
          "output_type": "display_data",
          "data": {
            "text/plain": [
              "<Figure size 800x400 with 1 Axes>"
            ],
            "image/png": "[encoded data removed]"
          },
          "metadata": {}
        }
      ]
    },
    {
      "cell_type": "markdown",
      "source": [],
      "metadata": {
        "id": "VCu5v8-7wJcB"
      }
    },
    {
      "cell_type": "markdown",
      "source": [
        "For the visualization method its clear that the outleirs are 150 and 81200 so that we can handle those\n"
      ],
      "metadata": {
        "id": "0tc7pTzkxgfT"
      }
    },
    {
      "cell_type": "code",
      "source": [
        "# Replace outliers (greater than 39999) in column ApplicantIncome with median value\n",
        "\n",
        "import numpy as np\n",
        "df['ApplicantIncome'] = np.where(df['ApplicantIncome'] > 39999, df['ApplicantIncome'].median(), df['ApplicantIncome'])\n",
        "print(df['ApplicantIncome'])"
      ],
      "metadata": {
        "colab": {
          "base_uri": "https://localhost:8080/"
        },
        "id": "7207fwm3x1OO",
        "outputId": "3a03daee-892e-464c-9c19-a98b23db7457"
      },
      "execution_count": 15,
      "outputs": [
        {
          "output_type": "stream",
          "name": "stdout",
          "text": [
            "1      4583.0\n",
            "2      3000.0\n",
            "3      2583.0\n",
            "4      6000.0\n",
            "5      5417.0\n",
            "        ...  \n",
            "609    2900.0\n",
            "610    4106.0\n",
            "611    8072.0\n",
            "612    7583.0\n",
            "613    4583.0\n",
            "Name: ApplicantIncome, Length: 480, dtype: float64\n"
          ]
        }
      ]
    },
    {
      "cell_type": "markdown",
      "source": [
        "### c. Encoding"
      ],
      "metadata": {
        "id": "_eAGEWXUjMlW"
      }
    },
    {
      "cell_type": "markdown",
      "source": [
        "There are two types are\n",
        "1. Label Encoding\n",
        "2. One-Hot Encoding"
      ],
      "metadata": {
        "id": "qZBG6hRDjqBR"
      }
    },
    {
      "cell_type": "markdown",
      "source": [
        "### c.1.Label Encoding"
      ],
      "metadata": {
        "id": "bJWydI2XkWHW"
      }
    },
    {
      "cell_type": "code",
      "source": [
        "from sklearn.preprocessing import LabelEncoder\n",
        "label_encoder = LabelEncoder()\n",
        "\n",
        "# Apply Label Encoding to the 'Property_Area' column\n",
        "df[\"Property_Area_label\"] = label_encoder.fit_transform(df[\"Property_Area\"])\n",
        "print(df['Property_Area_label'])"
      ],
      "metadata": {
        "colab": {
          "base_uri": "https://localhost:8080/"
        },
        "collapsed": true,
        "id": "pNBUh-Txkbg5",
        "outputId": "765a2291-60d9-469c-e3c1-eac65b3481fd"
      },
      "execution_count": 16,
      "outputs": [
        {
          "output_type": "stream",
          "name": "stdout",
          "text": [
            "1      0\n",
            "2      2\n",
            "3      2\n",
            "4      2\n",
            "5      2\n",
            "      ..\n",
            "609    0\n",
            "610    0\n",
            "611    2\n",
            "612    2\n",
            "613    1\n",
            "Name: Property_Area_label, Length: 480, dtype: int64\n"
          ]
        }
      ]
    },
    {
      "cell_type": "markdown",
      "source": [],
      "metadata": {
        "id": "Zv6SsuH4kTxd"
      }
    },
    {
      "cell_type": "markdown",
      "source": [
        "### c.2 One-Hot Encoding"
      ],
      "metadata": {
        "id": "e2NfVGqyl2LS"
      }
    },
    {
      "cell_type": "code",
      "source": [
        "# Apply One-Hot Encoding to the 'Property_Area' column\n",
        "one_host_encoded =  pd.get_dummies(df[\"Property_Area\"], prefix=\"Property_Area\")\n",
        "\n",
        "# Concatenate the one-hot encoded columns with the original DataFrame\n",
        "df = pd.concat([df, one_host_encoded], axis=1)\n",
        "print(\"\\nDataFrame after One-Hot Encoding the 'Property_Area'\")\n",
        "print(df)\n",
        "\n",
        "\n"
      ],
      "metadata": {
        "colab": {
          "base_uri": "https://localhost:8080/"
        },
        "collapsed": true,
        "id": "JscJsk1_l7WO",
        "outputId": "d8527911-b9f2-43a5-9704-8dcf6862fc99"
      },
      "execution_count": 17,
      "outputs": [
        {
          "output_type": "stream",
          "name": "stdout",
          "text": [
            "\n",
            "DataFrame after One-Hot Encoding the 'Property_Area'\n",
            "      Loan_ID  Gender Married Dependents     Education Self_Employed  \\\n",
            "1    LP001003    Male     Yes          1      Graduate            No   \n",
            "2    LP001005    Male     Yes          0      Graduate           Yes   \n",
            "3    LP001006    Male     Yes          0  Not Graduate            No   \n",
            "4    LP001008    Male      No          0      Graduate            No   \n",
            "5    LP001011    Male     Yes          2      Graduate           Yes   \n",
            "..        ...     ...     ...        ...           ...           ...   \n",
            "609  LP002978  Female      No          0      Graduate            No   \n",
            "610  LP002979    Male     Yes         3+      Graduate            No   \n",
            "611  LP002983    Male     Yes          1      Graduate            No   \n",
            "612  LP002984    Male     Yes          2      Graduate            No   \n",
            "613  LP002990  Female      No          0      Graduate           Yes   \n",
            "\n",
            "     ApplicantIncome  CoapplicantIncome  LoanAmount  Loan_Amount_Term  \\\n",
            "1             4583.0             1508.0       128.0             360.0   \n",
            "2             3000.0                0.0        66.0             360.0   \n",
            "3             2583.0             2358.0       120.0             360.0   \n",
            "4             6000.0                0.0       141.0             360.0   \n",
            "5             5417.0             4196.0       267.0             360.0   \n",
            "..               ...                ...         ...               ...   \n",
            "609           2900.0                0.0        71.0             360.0   \n",
            "610           4106.0                0.0        40.0             180.0   \n",
            "611           8072.0              240.0       253.0             360.0   \n",
            "612           7583.0                0.0       187.0             360.0   \n",
            "613           4583.0                0.0       133.0             360.0   \n",
            "\n",
            "     Credit_History Property_Area Loan_Status  Property_Area_label  \\\n",
            "1               1.0         Rural           N                    0   \n",
            "2               1.0         Urban           Y                    2   \n",
            "3               1.0         Urban           Y                    2   \n",
            "4               1.0         Urban           Y                    2   \n",
            "5               1.0         Urban           Y                    2   \n",
            "..              ...           ...         ...                  ...   \n",
            "609             1.0         Rural           Y                    0   \n",
            "610             1.0         Rural           Y                    0   \n",
            "611             1.0         Urban           Y                    2   \n",
            "612             1.0         Urban           Y                    2   \n",
            "613             0.0     Semiurban           N                    1   \n",
            "\n",
            "     Property_Area_Rural  Property_Area_Semiurban  Property_Area_Urban  \n",
            "1                   True                    False                False  \n",
            "2                  False                    False                 True  \n",
            "3                  False                    False                 True  \n",
            "4                  False                    False                 True  \n",
            "5                  False                    False                 True  \n",
            "..                   ...                      ...                  ...  \n",
            "609                 True                    False                False  \n",
            "610                 True                    False                False  \n",
            "611                False                    False                 True  \n",
            "612                False                    False                 True  \n",
            "613                False                     True                False  \n",
            "\n",
            "[480 rows x 17 columns]\n"
          ]
        }
      ]
    },
    {
      "cell_type": "markdown",
      "source": [
        "### d. Scaling"
      ],
      "metadata": {
        "id": "YyxvDCjXm5gv"
      }
    },
    {
      "cell_type": "markdown",
      "source": [
        "### d.1.\tMin-Max Scaling"
      ],
      "metadata": {
        "id": "C1q3BaX_wOpg"
      }
    },
    {
      "cell_type": "code",
      "source": [
        "from sklearn.preprocessing import MinMaxScaler\n",
        "\n",
        "# Create a MinMaxScaler object\n",
        "scaler = MinMaxScaler()\n",
        "columns = df.select_dtypes(include=['number']).columns.tolist()\n",
        "\n",
        "\n",
        "# Apply Min-Max Scaling to the DataFrame for numeric columns\n",
        "df_min_max_scaled = pd.DataFrame(scaler.fit_transform(df[columns]))\n",
        "print(df_min_max_scaled)"
      ],
      "metadata": {
        "colab": {
          "base_uri": "https://localhost:8080/"
        },
        "collapsed": true,
        "id": "ROGCpOuywcr6",
        "outputId": "8daf155c-e622-4614-879f-232e0d8467e0"
      },
      "execution_count": 18,
      "outputs": [
        {
          "output_type": "stream",
          "name": "stdout",
          "text": [
            "            0         1         2         3    4    5\n",
            "0    0.111245  0.044567  0.201354  0.729730  1.0  0.0\n",
            "1    0.071520  0.000000  0.096447  0.729730  1.0  1.0\n",
            "2    0.061055  0.069687  0.187817  0.729730  1.0  1.0\n",
            "3    0.146804  0.000000  0.223350  0.729730  1.0  1.0\n",
            "4    0.132174  0.124006  0.436548  0.729730  1.0  1.0\n",
            "..        ...       ...       ...       ...  ...  ...\n",
            "475  0.069011  0.000000  0.104907  0.729730  1.0  0.0\n",
            "476  0.099275  0.000000  0.052453  0.324324  1.0  0.0\n",
            "477  0.198800  0.007093  0.412860  0.729730  1.0  1.0\n",
            "478  0.186529  0.000000  0.301184  0.729730  1.0  1.0\n",
            "479  0.111245  0.000000  0.209814  0.729730  0.0  0.5\n",
            "\n",
            "[480 rows x 6 columns]\n"
          ]
        }
      ]
    }
  ]
}